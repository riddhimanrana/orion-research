{
 "cells": [
  {
   "cell_type": "code",
   "execution_count": null,
   "id": "7c26d497",
   "metadata": {},
   "outputs": [],
   "source": [
    "from transformers import AutoModel, AutoImageProcessor\n",
    "import torch\n",
    "from PIL import Image\n",
    "\n",
    "# Pick a valid device at runtime instead of hardcoding \"cuda\"\n",
    "if torch.cuda.is_available():\n",
    "    device = \"cuda\"\n",
    "# Check for Apple Silicon MPS support (if available in this torch build)\n",
    "elif getattr(torch.backends, \"mps\", None) is not None and torch.backends.mps.is_available():\n",
    "    device = \"mps\"\n",
    "else:\n",
    "    device = \"cpu\"\n",
    "\n",
    "print(f\"Using device: {device}\")\n",
    "\n",
    "model = AutoModel.from_pretrained(\n",
    "    \"kevin510/fast-vit-hd\", trust_remote_code=True\n",
    ")\n",
    "\n",
    "# Try to move the model to the chosen device; if that fails, fall back to cpu\n",
    "try:\n",
    "    model = model.to(device)\n",
    "except Exception as e:\n",
    "    print(f\"Warning: failed to move model to {device}: {e}. Falling back to cpu.\")\n",
    "    device = \"cpu\"\n",
    "    model = model.to(device)\n",
    "\n",
    "model = model.eval()\n",
    "\n",
    "processor = AutoImageProcessor.from_pretrained(\n",
    "    \"kevin510/fast-vit-hd\", trust_remote_code=True\n",
    ")\n",
    "\n",
    "img = Image.open(\"../data/examples/example1.jpg\")\n",
    "px = processor(img, do_center_crop=False, return_tensors=\"pt\")[\"pixel_values\"].to(device)   # (1,3,1024,1024)\n",
    "\n",
    "emb = model(px)\n",
    "print(emb.shape)   # (1, D, 3072)\n"
   ]
  }
 ],
 "metadata": {
  "kernelspec": {
   "display_name": "orion",
   "language": "python",
   "name": "python3"
  },
  "language_info": {
   "name": "python",
   "version": "3.10.18"
  }
 },
 "nbformat": 4,
 "nbformat_minor": 5
}
